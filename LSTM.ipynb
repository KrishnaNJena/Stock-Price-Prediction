{
 "cells": [
  {
   "cell_type": "markdown",
   "metadata": {},
   "source": [
    "#### Load the Libraries"
   ]
  },
  {
   "cell_type": "code",
   "execution_count": 1,
   "metadata": {},
   "outputs": [],
   "source": [
    "# Import the Libraries\n",
    "import numpy as np\n",
    "import pandas as pd\n",
    "import matplotlib.pyplot as plt"
   ]
  },
  {
   "cell_type": "markdown",
   "metadata": {},
   "source": [
    "#### Importing the Train data"
   ]
  },
  {
   "cell_type": "code",
   "execution_count": 2,
   "metadata": {},
   "outputs": [
    {
     "data": {
      "text/plain": [
       "array([[325.25],\n",
       "       [331.27],\n",
       "       [329.83],\n",
       "       ...,\n",
       "       [793.7 ],\n",
       "       [783.33],\n",
       "       [782.75]])"
      ]
     },
     "execution_count": 2,
     "metadata": {},
     "output_type": "execute_result"
    }
   ],
   "source": [
    "train_data=pd.read_csv(\"Google_Stock_Price_Train.csv\")\n",
    "train_dataset=train_data.iloc[:,1:2].values\n",
    "train_dataset"
   ]
  },
  {
   "cell_type": "markdown",
   "metadata": {},
   "source": [
    "#### Feature Scaling"
   ]
  },
  {
   "cell_type": "code",
   "execution_count": 3,
   "metadata": {},
   "outputs": [],
   "source": [
    "from sklearn.preprocessing import MinMaxScaler\n",
    "sc=MinMaxScaler(feature_range=(0,1))\n",
    "train_data_scaled=sc.fit_transform(train_dataset)"
   ]
  },
  {
   "cell_type": "code",
   "execution_count": 4,
   "metadata": {},
   "outputs": [],
   "source": [
    "# RNN network works on Time stamps. Creating a data structure with 60 time stamps and 1 output\n",
    "x_train=[]\n",
    "y_train=[]\n",
    "for i in range(60, 1258):\n",
    "    x_train.append(train_data_scaled[i-60:i, 0])\n",
    "    y_train.append(train_data_scaled[i, 0])\n",
    "x_train, y_train = np.array(x_train), np.array(y_train)"
   ]
  },
  {
   "cell_type": "code",
   "execution_count": 5,
   "metadata": {},
   "outputs": [
    {
     "data": {
      "text/plain": [
       "(1198, 60)"
      ]
     },
     "execution_count": 5,
     "metadata": {},
     "output_type": "execute_result"
    }
   ],
   "source": [
    "x_train.shape"
   ]
  },
  {
   "cell_type": "code",
   "execution_count": 6,
   "metadata": {},
   "outputs": [
    {
     "data": {
      "text/plain": [
       "(1198,)"
      ]
     },
     "execution_count": 6,
     "metadata": {},
     "output_type": "execute_result"
    }
   ],
   "source": [
    "y_train.shape"
   ]
  },
  {
   "cell_type": "code",
   "execution_count": 7,
   "metadata": {},
   "outputs": [],
   "source": [
    "# Reshaping the data\n",
    "x_train = np.reshape(x_train, (x_train.shape[0], x_train.shape[1], 1))"
   ]
  },
  {
   "cell_type": "code",
   "execution_count": 8,
   "metadata": {},
   "outputs": [
    {
     "data": {
      "text/plain": [
       "array([[[0.08581368],\n",
       "        [0.09701243],\n",
       "        [0.09433366],\n",
       "        ...,\n",
       "        [0.07846566],\n",
       "        [0.08034452],\n",
       "        [0.08497656]],\n",
       "\n",
       "       [[0.09701243],\n",
       "        [0.09433366],\n",
       "        [0.09156187],\n",
       "        ...,\n",
       "        [0.08034452],\n",
       "        [0.08497656],\n",
       "        [0.08627874]],\n",
       "\n",
       "       [[0.09433366],\n",
       "        [0.09156187],\n",
       "        [0.07984225],\n",
       "        ...,\n",
       "        [0.08497656],\n",
       "        [0.08627874],\n",
       "        [0.08471612]],\n",
       "\n",
       "       ...,\n",
       "\n",
       "       [[0.92106928],\n",
       "        [0.92438053],\n",
       "        [0.93048218],\n",
       "        ...,\n",
       "        [0.95475854],\n",
       "        [0.95204256],\n",
       "        [0.95163331]],\n",
       "\n",
       "       [[0.92438053],\n",
       "        [0.93048218],\n",
       "        [0.9299055 ],\n",
       "        ...,\n",
       "        [0.95204256],\n",
       "        [0.95163331],\n",
       "        [0.95725128]],\n",
       "\n",
       "       [[0.93048218],\n",
       "        [0.9299055 ],\n",
       "        [0.93113327],\n",
       "        ...,\n",
       "        [0.95163331],\n",
       "        [0.95725128],\n",
       "        [0.93796041]]])"
      ]
     },
     "execution_count": 8,
     "metadata": {},
     "output_type": "execute_result"
    }
   ],
   "source": [
    "x_train"
   ]
  },
  {
   "cell_type": "code",
   "execution_count": 9,
   "metadata": {},
   "outputs": [],
   "source": [
    "from keras.models import Sequential\n",
    "from keras.layers import Dense,LSTM,Dropout"
   ]
  },
  {
   "cell_type": "code",
   "execution_count": 10,
   "metadata": {
    "scrolled": false
   },
   "outputs": [
    {
     "name": "stdout",
     "output_type": "stream",
     "text": [
      "Epoch 1/100\n",
      "38/38 [==============================] - 1s 29ms/step - loss: 0.0440\n",
      "Epoch 2/100\n",
      "38/38 [==============================] - 1s 24ms/step - loss: 0.0074\n",
      "Epoch 3/100\n",
      "38/38 [==============================] - 1s 28ms/step - loss: 0.0057\n",
      "Epoch 4/100\n",
      "38/38 [==============================] - 1s 25ms/step - loss: 0.0062\n",
      "Epoch 5/100\n",
      "38/38 [==============================] - 1s 23ms/step - loss: 0.0043\n",
      "Epoch 6/100\n",
      "38/38 [==============================] - 1s 26ms/step - loss: 0.0047\n",
      "Epoch 7/100\n",
      "38/38 [==============================] - 1s 28ms/step - loss: 0.0047\n",
      "Epoch 8/100\n",
      "38/38 [==============================] - 1s 30ms/step - loss: 0.0049\n",
      "Epoch 9/100\n",
      "38/38 [==============================] - 1s 27ms/step - loss: 0.0053\n",
      "Epoch 10/100\n",
      "38/38 [==============================] - 1s 28ms/step - loss: 0.0039\n",
      "Epoch 11/100\n",
      "38/38 [==============================] - 1s 27ms/step - loss: 0.0041\n",
      "Epoch 12/100\n",
      "38/38 [==============================] - 1s 28ms/step - loss: 0.0045\n",
      "Epoch 13/100\n",
      "38/38 [==============================] - 1s 28ms/step - loss: 0.0040\n",
      "Epoch 14/100\n",
      "38/38 [==============================] - 1s 27ms/step - loss: 0.0039\n",
      "Epoch 15/100\n",
      "38/38 [==============================] - 1s 27ms/step - loss: 0.0036\n",
      "Epoch 16/100\n",
      "38/38 [==============================] - 1s 25ms/step - loss: 0.0038\n",
      "Epoch 17/100\n",
      "38/38 [==============================] - 1s 27ms/step - loss: 0.0038: 0s - l\n",
      "Epoch 18/100\n",
      "38/38 [==============================] - 1s 33ms/step - loss: 0.0036\n",
      "Epoch 19/100\n",
      "38/38 [==============================] - 1s 28ms/step - loss: 0.0042\n",
      "Epoch 20/100\n",
      "38/38 [==============================] - 1s 32ms/step - loss: 0.0034\n",
      "Epoch 21/100\n",
      "38/38 [==============================] - 1s 35ms/step - loss: 0.0035\n",
      "Epoch 22/100\n",
      "38/38 [==============================] - 1s 33ms/step - loss: 0.0031\n",
      "Epoch 23/100\n",
      "38/38 [==============================] - 1s 32ms/step - loss: 0.0031\n",
      "Epoch 24/100\n",
      "38/38 [==============================] - 1s 33ms/step - loss: 0.0032\n",
      "Epoch 25/100\n",
      "38/38 [==============================] - 2s 44ms/step - loss: 0.0033\n",
      "Epoch 26/100\n",
      "38/38 [==============================] - 2s 42ms/step - loss: 0.0034\n",
      "Epoch 27/100\n",
      "38/38 [==============================] - 1s 38ms/step - loss: 0.0032\n",
      "Epoch 28/100\n",
      "38/38 [==============================] - 1s 39ms/step - loss: 0.0034\n",
      "Epoch 29/100\n",
      "38/38 [==============================] - 1s 32ms/step - loss: 0.0034\n",
      "Epoch 30/100\n",
      "38/38 [==============================] - 1s 29ms/step - loss: 0.0038\n",
      "Epoch 31/100\n",
      "38/38 [==============================] - 1s 30ms/step - loss: 0.0028\n",
      "Epoch 32/100\n",
      "38/38 [==============================] - 1s 29ms/step - loss: 0.0031\n",
      "Epoch 33/100\n",
      "38/38 [==============================] - 1s 26ms/step - loss: 0.0028\n",
      "Epoch 34/100\n",
      "38/38 [==============================] - 1s 29ms/step - loss: 0.0027: 0s - loss: 0\n",
      "Epoch 35/100\n",
      "38/38 [==============================] - 1s 27ms/step - loss: 0.0027\n",
      "Epoch 36/100\n",
      "38/38 [==============================] - 1s 28ms/step - loss: 0.0027\n",
      "Epoch 37/100\n",
      "38/38 [==============================] - 1s 26ms/step - loss: 0.0034\n",
      "Epoch 38/100\n",
      "38/38 [==============================] - 1s 27ms/step - loss: 0.0027\n",
      "Epoch 39/100\n",
      "38/38 [==============================] - 1s 29ms/step - loss: 0.0026\n",
      "Epoch 40/100\n",
      "38/38 [==============================] - 1s 26ms/step - loss: 0.0024\n",
      "Epoch 41/100\n",
      "38/38 [==============================] - 1s 29ms/step - loss: 0.0026\n",
      "Epoch 42/100\n",
      "38/38 [==============================] - 1s 27ms/step - loss: 0.0028\n",
      "Epoch 43/100\n",
      "38/38 [==============================] - 1s 29ms/step - loss: 0.0028\n",
      "Epoch 44/100\n",
      "38/38 [==============================] - 1s 28ms/step - loss: 0.0027\n",
      "Epoch 45/100\n",
      "38/38 [==============================] - 1s 25ms/step - loss: 0.0027\n",
      "Epoch 46/100\n",
      "38/38 [==============================] - 1s 26ms/step - loss: 0.0027\n",
      "Epoch 47/100\n",
      "38/38 [==============================] - 1s 25ms/step - loss: 0.0024\n",
      "Epoch 48/100\n",
      "38/38 [==============================] - 1s 24ms/step - loss: 0.0024\n",
      "Epoch 49/100\n",
      "38/38 [==============================] - ETA: 0s - loss: 0.002 - 1s 30ms/step - loss: 0.0023\n",
      "Epoch 50/100\n",
      "38/38 [==============================] - 1s 27ms/step - loss: 0.0023\n",
      "Epoch 51/100\n",
      "38/38 [==============================] - 1s 26ms/step - loss: 0.0023\n",
      "Epoch 52/100\n",
      "38/38 [==============================] - 1s 24ms/step - loss: 0.0023\n",
      "Epoch 53/100\n",
      "38/38 [==============================] - 1s 27ms/step - loss: 0.0024\n",
      "Epoch 54/100\n",
      "38/38 [==============================] - 1s 27ms/step - loss: 0.0023\n",
      "Epoch 55/100\n",
      "38/38 [==============================] - 1s 28ms/step - loss: 0.0022\n",
      "Epoch 56/100\n",
      "38/38 [==============================] - 1s 26ms/step - loss: 0.0022\n",
      "Epoch 57/100\n",
      "38/38 [==============================] - 1s 26ms/step - loss: 0.0022: 0s - loss: 0\n",
      "Epoch 58/100\n",
      "38/38 [==============================] - 1s 30ms/step - loss: 0.0020\n",
      "Epoch 59/100\n",
      "38/38 [==============================] - 1s 24ms/step - loss: 0.0020\n",
      "Epoch 60/100\n",
      "38/38 [==============================] - 1s 28ms/step - loss: 0.0023: 0s - loss: 0\n",
      "Epoch 61/100\n",
      "38/38 [==============================] - 1s 32ms/step - loss: 0.0022\n",
      "Epoch 62/100\n",
      "38/38 [==============================] - 1s 26ms/step - loss: 0.0022\n",
      "Epoch 63/100\n",
      "38/38 [==============================] - 1s 26ms/step - loss: 0.0021\n",
      "Epoch 64/100\n",
      "38/38 [==============================] - 1s 26ms/step - loss: 0.0020\n",
      "Epoch 65/100\n",
      "38/38 [==============================] - 1s 29ms/step - loss: 0.0021\n",
      "Epoch 66/100\n",
      "38/38 [==============================] - 1s 26ms/step - loss: 0.0022\n",
      "Epoch 67/100\n",
      "38/38 [==============================] - 1s 26ms/step - loss: 0.0021: 0s - los\n",
      "Epoch 68/100\n",
      "38/38 [==============================] - 1s 26ms/step - loss: 0.0020\n",
      "Epoch 69/100\n",
      "38/38 [==============================] - 1s 25ms/step - loss: 0.0020\n",
      "Epoch 70/100\n",
      "38/38 [==============================] - 1s 26ms/step - loss: 0.0018: 0s - lo\n",
      "Epoch 71/100\n",
      "38/38 [==============================] - 1s 28ms/step - loss: 0.0019: 0s - loss: \n",
      "Epoch 72/100\n",
      "38/38 [==============================] - 1s 28ms/step - loss: 0.0019\n",
      "Epoch 73/100\n",
      "38/38 [==============================] - 1s 27ms/step - loss: 0.0017\n",
      "Epoch 74/100\n",
      "38/38 [==============================] - 1s 27ms/step - loss: 0.0018\n",
      "Epoch 75/100\n",
      "38/38 [==============================] - 1s 29ms/step - loss: 0.0019\n",
      "Epoch 76/100\n",
      "38/38 [==============================] - 1s 24ms/step - loss: 0.0019\n",
      "Epoch 77/100\n",
      "38/38 [==============================] - 1s 27ms/step - loss: 0.0018\n",
      "Epoch 78/100\n",
      "38/38 [==============================] - 1s 25ms/step - loss: 0.0017\n",
      "Epoch 79/100\n",
      "38/38 [==============================] - 1s 27ms/step - loss: 0.0017\n",
      "Epoch 80/100\n",
      "38/38 [==============================] - 1s 27ms/step - loss: 0.0019\n",
      "Epoch 81/100\n",
      "38/38 [==============================] - 1s 26ms/step - loss: 0.0018\n",
      "Epoch 82/100\n",
      "38/38 [==============================] - 1s 29ms/step - loss: 0.0018\n",
      "Epoch 83/100\n",
      "38/38 [==============================] - 1s 25ms/step - loss: 0.0017\n",
      "Epoch 84/100\n",
      "38/38 [==============================] - 1s 26ms/step - loss: 0.0017\n",
      "Epoch 85/100\n",
      "38/38 [==============================] - 1s 23ms/step - loss: 0.0016\n",
      "Epoch 86/100\n",
      "38/38 [==============================] - 1s 31ms/step - loss: 0.0017\n",
      "Epoch 87/100\n",
      "38/38 [==============================] - 1s 29ms/step - loss: 0.0015\n",
      "Epoch 88/100\n",
      "38/38 [==============================] - 1s 26ms/step - loss: 0.0016\n",
      "Epoch 89/100\n",
      "38/38 [==============================] - 1s 27ms/step - loss: 0.0016\n",
      "Epoch 90/100\n",
      "38/38 [==============================] - 1s 27ms/step - loss: 0.0017\n",
      "Epoch 91/100\n",
      "38/38 [==============================] - 1s 31ms/step - loss: 0.0016\n",
      "Epoch 92/100\n",
      "38/38 [==============================] - 1s 27ms/step - loss: 0.0017\n",
      "Epoch 93/100\n",
      "38/38 [==============================] - 1s 26ms/step - loss: 0.0016\n",
      "Epoch 94/100\n",
      "38/38 [==============================] - 1s 27ms/step - loss: 0.0015\n",
      "Epoch 95/100\n",
      "38/38 [==============================] - 1s 26ms/step - loss: 0.0015\n",
      "Epoch 96/100\n",
      "38/38 [==============================] - 1s 29ms/step - loss: 0.0017\n",
      "Epoch 97/100\n",
      "38/38 [==============================] - 1s 27ms/step - loss: 0.0014\n",
      "Epoch 98/100\n",
      "38/38 [==============================] - 1s 22ms/step - loss: 0.0014\n",
      "Epoch 99/100\n"
     ]
    },
    {
     "name": "stdout",
     "output_type": "stream",
     "text": [
      "38/38 [==============================] - 1s 23ms/step - loss: 0.0014\n",
      "Epoch 100/100\n",
      "38/38 [==============================] - 1s 27ms/step - loss: 0.0014\n"
     ]
    },
    {
     "data": {
      "text/plain": [
       "<tensorflow.python.keras.callbacks.History at 0x229b0bb4bb0>"
      ]
     },
     "execution_count": 10,
     "metadata": {},
     "output_type": "execute_result"
    }
   ],
   "source": [
    "# Initialising the RNN\n",
    "regressor = Sequential()\n",
    "\n",
    "# Adding the first LSTM layer and some Dropout regularisation\n",
    "regressor.add(LSTM(units = 50, return_sequences = True, input_shape = (x_train.shape[1], 1)))\n",
    "regressor.add(Dropout(0.2))\n",
    "\n",
    "# Adding a second LSTM layer and some Dropout regularisation\n",
    "regressor.add(LSTM(units = 50, return_sequences = True))\n",
    "regressor.add(Dropout(0.2))\n",
    "\n",
    "# Adding a third LSTM layer and some Dropout regularisation\n",
    "regressor.add(LSTM(units = 50, return_sequences = True))\n",
    "regressor.add(Dropout(0.2))\n",
    "\n",
    "# Adding a fourth LSTM layer and some Dropout regularisation\n",
    "regressor.add(LSTM(units = 50))\n",
    "regressor.add(Dropout(0.2))\n",
    "\n",
    "# Adding the output layer\n",
    "regressor.add(Dense(units = 1))\n",
    "\n",
    "# Compiling the RNN\n",
    "regressor.compile(optimizer = 'adam', loss = 'mean_squared_error')\n",
    "\n",
    "# Fitting the RNN to the Training set\n",
    "regressor.fit(x_train, y_train, epochs = 100, batch_size = 32)\n"
   ]
  },
  {
   "cell_type": "code",
   "execution_count": 11,
   "metadata": {},
   "outputs": [],
   "source": [
    "# Getting the real stock price of 2017\n",
    "dataset_test = pd.read_csv('Google_Stock_Price_Test.csv')\n",
    "real_stock_price = dataset_test.iloc[:, 1:2].values"
   ]
  },
  {
   "cell_type": "code",
   "execution_count": 12,
   "metadata": {},
   "outputs": [],
   "source": [
    "# Getting the predicted stock price of 2017\n",
    "dataset_total = pd.concat((train_data['Open'], dataset_test['Open']), axis = 0)\n",
    "inputs = dataset_total[len(dataset_total) - len(dataset_test) - 60:].values\n",
    "inputs = inputs.reshape(-1,1)\n",
    "inputs = sc.transform(inputs)"
   ]
  },
  {
   "cell_type": "code",
   "execution_count": 13,
   "metadata": {},
   "outputs": [],
   "source": [
    "X_test = []\n",
    "for i in range(60, 80):                   # predicting only for 20 records\n",
    "    X_test.append(inputs[i-60:i, 0])\n",
    "X_test = np.array(X_test)\n",
    "X_test = np.reshape(X_test, (X_test.shape[0], X_test.shape[1], 1))\n",
    "predicted_stock_price = regressor.predict(X_test)\n",
    "predicted_stock_price = sc.inverse_transform(predicted_stock_price)"
   ]
  },
  {
   "cell_type": "code",
   "execution_count": 14,
   "metadata": {},
   "outputs": [
    {
     "data": {
      "image/png": "[encoded data removed]",
      "text/plain": [
       "<Figure size 432x288 with 1 Axes>"
      ]
     },
     "metadata": {
      "needs_background": "light"
     },
     "output_type": "display_data"
    }
   ],
   "source": [
    "# Visualising the results\n",
    "plt.plot(real_stock_price, color = 'red', label = 'Real Google Stock Price')\n",
    "plt.plot(predicted_stock_price, color = 'blue', label = 'Predicted Google Stock Price')\n",
    "plt.title('Google Stock Price Prediction')\n",
    "plt.xlabel('Time')\n",
    "plt.ylabel('Google Stock Price')\n",
    "plt.legend()\n",
    "plt.show()"
   ]
  },
  {
   "cell_type": "code",
   "execution_count": null,
   "metadata": {},
   "outputs": [],
   "source": []
  }
 ],
 "metadata": {
  "kernelspec": {
   "display_name": "Python 3",
   "language": "python",
   "name": "python3"
  },
  "language_info": {
   "codemirror_mode": {
    "name": "ipython",
    "version": 3
   },
   "file_extension": ".py",
   "mimetype": "text/x-python",
   "name": "python",
   "nbconvert_exporter": "python",
   "pygments_lexer": "ipython3",
   "version": "3.8.3"
  }
 },
 "nbformat": 4,
 "nbformat_minor": 4
}
